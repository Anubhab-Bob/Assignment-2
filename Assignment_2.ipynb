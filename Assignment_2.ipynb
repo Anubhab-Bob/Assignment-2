{
  "nbformat": 4,
  "nbformat_minor": 0,
  "metadata": {
    "colab": {
      "name": "Assignment 2.ipynb",
      "version": "0.3.2",
      "provenance": [],
      "include_colab_link": true
    },
    "kernelspec": {
      "display_name": "Python 3",
      "language": "python",
      "name": "python3"
    }
  },
  "cells": [
    {
      "cell_type": "markdown",
      "metadata": {
        "id": "view-in-github",
        "colab_type": "text"
      },
      "source": [
        "[View in Colaboratory](https://colab.research.google.com/github/Anubhab-Bob/Assignment-2/blob/Anubhab-Bob/Assignment_2.ipynb)"
      ]
    },
    {
      "metadata": {
        "id": "A5gF9gMFq3Ck",
        "colab_type": "code",
        "colab": {}
      },
      "cell_type": "code",
      "source": [
        "dummy_list=[1, 2, 3, 4, 5, 3]"
      ],
      "execution_count": 0,
      "outputs": []
    },
    {
      "metadata": {
        "id": "QkJs_byK_qPg",
        "colab_type": "code",
        "colab": {
          "base_uri": "https://localhost:8080/",
          "height": 34
        },
        "outputId": "54a5acbb-99c1-4976-8427-928829866b40"
      },
      "cell_type": "code",
      "source": [
        "print(dummy_list)"
      ],
      "execution_count": 43,
      "outputs": [
        {
          "output_type": "stream",
          "text": [
            "[1, 2, 3, 4, 5, 3]\n"
          ],
          "name": "stdout"
        }
      ]
    },
    {
      "metadata": {
        "id": "F2QMHeQAB4Ja",
        "colab_type": "code",
        "colab": {
          "base_uri": "https://localhost:8080/",
          "height": 34
        },
        "outputId": "f25ee66b-52c9-4a33-c6c1-e4e5b39429cd"
      },
      "cell_type": "code",
      "source": [
        "dummy_list.reverse()\n",
        "print(dummy_list)\n",
        "#for o in reversed(dummy_list):\n",
        "#   print(o)"
      ],
      "execution_count": 44,
      "outputs": [
        {
          "output_type": "stream",
          "text": [
            "[3, 5, 4, 3, 2, 1]\n"
          ],
          "name": "stdout"
        }
      ]
    },
    {
      "metadata": {
        "id": "7XeXBwK6CD1i",
        "colab_type": "code",
        "colab": {
          "base_uri": "https://localhost:8080/",
          "height": 34
        },
        "outputId": "7bac405f-c1a1-47af-f9d1-2bd4da1d9295"
      },
      "cell_type": "code",
      "source": [
        "dummy_list_2 = [2, 200, 16, 4, 1, 0, 9.45, 45.67, 90, 12.01, 12.02]\n",
        "dummy_list.extend(dummy_list_2)\n",
        "print(dummy_list)"
      ],
      "execution_count": 45,
      "outputs": [
        {
          "output_type": "stream",
          "text": [
            "[3, 5, 4, 3, 2, 1, 2, 200, 16, 4, 1, 0, 9.45, 45.67, 90, 12.01, 12.02]\n"
          ],
          "name": "stdout"
        }
      ]
    },
    {
      "metadata": {
        "id": "ujmdan92Du6g",
        "colab_type": "code",
        "colab": {}
      },
      "cell_type": "code",
      "source": [
        "dummy_dict={}"
      ],
      "execution_count": 0,
      "outputs": []
    },
    {
      "metadata": {
        "id": "TPaUVjDSEqyv",
        "colab_type": "code",
        "colab": {}
      },
      "cell_type": "code",
      "source": [
        "i=0\n",
        "while i!= len(dummy_list):\n",
        "  if dummy_list[i] not in dummy_dict:\n",
        "    dummy_dict[dummy_list[i]]=1\n",
        "  else:\n",
        "    for key,value in dummy_dict.items():\n",
        "      if key == dummy_list[i]:\n",
        "        dummy_dict[key] = value + 1\n",
        "        break\n",
        "      #print(\"Key: \"    + str(key))\n",
        "      #print (\"Value: \" + str(value))\n",
        "  i = i + 1\n",
        "  #print(i)"
      ],
      "execution_count": 0,
      "outputs": []
    },
    {
      "metadata": {
        "id": "TY6jC_gyQbPP",
        "colab_type": "code",
        "colab": {
          "base_uri": "https://localhost:8080/",
          "height": 890
        },
        "outputId": "d9ebd07a-f660-466d-8dc6-f63c75a3562d"
      },
      "cell_type": "code",
      "source": [
        "for key, value in dummy_dict.items():\n",
        "    print(\"Key: \"    + str(key))\n",
        "    print (\"Value: \" + str(value))\n",
        "    print('\\n')"
      ],
      "execution_count": 48,
      "outputs": [
        {
          "output_type": "stream",
          "text": [
            "Key: 3\n",
            "Value: 2\n",
            "\n",
            "\n",
            "Key: 5\n",
            "Value: 1\n",
            "\n",
            "\n",
            "Key: 4\n",
            "Value: 2\n",
            "\n",
            "\n",
            "Key: 2\n",
            "Value: 2\n",
            "\n",
            "\n",
            "Key: 1\n",
            "Value: 2\n",
            "\n",
            "\n",
            "Key: 200\n",
            "Value: 1\n",
            "\n",
            "\n",
            "Key: 16\n",
            "Value: 1\n",
            "\n",
            "\n",
            "Key: 0\n",
            "Value: 1\n",
            "\n",
            "\n",
            "Key: 9.45\n",
            "Value: 1\n",
            "\n",
            "\n",
            "Key: 45.67\n",
            "Value: 1\n",
            "\n",
            "\n",
            "Key: 90\n",
            "Value: 1\n",
            "\n",
            "\n",
            "Key: 12.01\n",
            "Value: 1\n",
            "\n",
            "\n",
            "Key: 12.02\n",
            "Value: 1\n",
            "\n",
            "\n"
          ],
          "name": "stdout"
        }
      ]
    },
    {
      "metadata": {
        "id": "G0Ft30gsucvR",
        "colab_type": "code",
        "colab": {
          "base_uri": "https://localhost:8080/",
          "height": 84
        },
        "outputId": "43c82359-3219-4ac8-c68a-22f99a666d04"
      },
      "cell_type": "code",
      "source": [
        "'''for key in sorted(dummy_dict.keys()):\n",
        "    print (\"Key :\" + str(key) + '\\t\\t\\t' + \"Value :\" + str(dummy_dict[key]))\n",
        "\n",
        "print(\"\\n\\n\")\n",
        "for key in sorted(dummy_dict.keys(), reverse=True):\n",
        "    print (\"Key :\" + str(key) + '\\t\\t\\t' + \"Value :\" + str(dummy_dict[key]))'''\n",
        "\n",
        "dummy_list.sort()\n",
        "print(dummy_list)\n",
        "print('\\n')\n",
        "dummy_list.sort(reverse=True)\n",
        "print(dummy_list)\n",
        "#print(sorted(dummy_list, reversed=True))"
      ],
      "execution_count": 49,
      "outputs": [
        {
          "output_type": "stream",
          "text": [
            "[0, 1, 1, 2, 2, 3, 3, 4, 4, 5, 9.45, 12.01, 12.02, 16, 45.67, 90, 200]\n",
            "\n",
            "\n",
            "[200, 90, 45.67, 16, 12.02, 12.01, 9.45, 5, 4, 4, 3, 3, 2, 2, 1, 1, 0]\n"
          ],
          "name": "stdout"
        }
      ]
    },
    {
      "metadata": {
        "id": "DtOAyHUtvm8Z",
        "colab_type": "code",
        "colab": {
          "base_uri": "https://localhost:8080/",
          "height": 34
        },
        "outputId": "247c5ea9-d230-42ab-f6ce-bdd0b0b3ae19"
      },
      "cell_type": "code",
      "source": [
        "x=200\n",
        "dummy_list.remove(x)\n",
        "print(dummy_list)"
      ],
      "execution_count": 50,
      "outputs": [
        {
          "output_type": "stream",
          "text": [
            "[90, 45.67, 16, 12.02, 12.01, 9.45, 5, 4, 4, 3, 3, 2, 2, 1, 1, 0]\n"
          ],
          "name": "stdout"
        }
      ]
    },
    {
      "metadata": {
        "id": "Adi6fYUBwnFG",
        "colab_type": "code",
        "colab": {
          "base_uri": "https://localhost:8080/",
          "height": 34
        },
        "outputId": "73231223-6081-466f-937b-b759e280aaa6"
      },
      "cell_type": "code",
      "source": [
        "del dummy_list[5]\n",
        "print (dummy_list)"
      ],
      "execution_count": 51,
      "outputs": [
        {
          "output_type": "stream",
          "text": [
            "[90, 45.67, 16, 12.02, 12.01, 5, 4, 4, 3, 3, 2, 2, 1, 1, 0]\n"
          ],
          "name": "stdout"
        }
      ]
    },
    {
      "metadata": {
        "id": "OTEasC7uxmOX",
        "colab_type": "code",
        "colab": {
          "base_uri": "https://localhost:8080/",
          "height": 34
        },
        "outputId": "18486a51-d854-4d83-982b-2eb7647e86c6"
      },
      "cell_type": "code",
      "source": [
        "dummy_list.clear()\n",
        "print(dummy_list)"
      ],
      "execution_count": 52,
      "outputs": [
        {
          "output_type": "stream",
          "text": [
            "[]\n"
          ],
          "name": "stdout"
        }
      ]
    },
    {
      "metadata": {
        "id": "5Tw-3o-kwdZS",
        "colab_type": "text"
      },
      "cell_type": "markdown",
      "source": [
        "# Now the Numpy part"
      ]
    },
    {
      "metadata": {
        "id": "XI0_hACCQlA_",
        "colab_type": "code",
        "colab": {}
      },
      "cell_type": "code",
      "source": [
        "import numpy as np"
      ],
      "execution_count": 0,
      "outputs": []
    },
    {
      "metadata": {
        "id": "VV7zXbLnYp2t",
        "colab_type": "code",
        "colab": {
          "base_uri": "https://localhost:8080/",
          "height": 202
        },
        "outputId": "d318cb7b-4b2e-41fa-d1fd-ad931ec931a9"
      },
      "cell_type": "code",
      "source": [
        "b  =  np.linspace(1.3,2.5, num=64)\n",
        "print (b)"
      ],
      "execution_count": 54,
      "outputs": [
        {
          "output_type": "stream",
          "text": [
            "[1.3        1.31904762 1.33809524 1.35714286 1.37619048 1.3952381\n",
            " 1.41428571 1.43333333 1.45238095 1.47142857 1.49047619 1.50952381\n",
            " 1.52857143 1.54761905 1.56666667 1.58571429 1.6047619  1.62380952\n",
            " 1.64285714 1.66190476 1.68095238 1.7        1.71904762 1.73809524\n",
            " 1.75714286 1.77619048 1.7952381  1.81428571 1.83333333 1.85238095\n",
            " 1.87142857 1.89047619 1.90952381 1.92857143 1.94761905 1.96666667\n",
            " 1.98571429 2.0047619  2.02380952 2.04285714 2.06190476 2.08095238\n",
            " 2.1        2.11904762 2.13809524 2.15714286 2.17619048 2.1952381\n",
            " 2.21428571 2.23333333 2.25238095 2.27142857 2.29047619 2.30952381\n",
            " 2.32857143 2.34761905 2.36666667 2.38571429 2.4047619  2.42380952\n",
            " 2.44285714 2.46190476 2.48095238 2.5       ]\n"
          ],
          "name": "stdout"
        }
      ]
    },
    {
      "metadata": {
        "id": "JYYLSWaQRKJC",
        "colab_type": "code",
        "colab": {
          "base_uri": "https://localhost:8080/",
          "height": 50
        },
        "outputId": "29491d17-ac3e-4fab-85b6-91862e8f894a"
      },
      "cell_type": "code",
      "source": [
        "n = int(input())\n",
        "x = np.array([1, 2, 3])\n",
        "y = np.tile(x,(3*n))\n",
        "print (y)"
      ],
      "execution_count": 55,
      "outputs": [
        {
          "output_type": "stream",
          "text": [
            "3\n",
            "[1 2 3 1 2 3 1 2 3 1 2 3 1 2 3 1 2 3 1 2 3 1 2 3 1 2 3]\n"
          ],
          "name": "stdout"
        }
      ]
    },
    {
      "metadata": {
        "id": "FGwwjf_pTMRs",
        "colab_type": "code",
        "colab": {
          "base_uri": "https://localhost:8080/",
          "height": 34
        },
        "outputId": "66dfd586-66ac-4e7f-af97-386793d75a76"
      },
      "cell_type": "code",
      "source": [
        "b = np.arange(20)\n",
        "\n",
        "#print(b)\n",
        "\n",
        "mask = b%2!=0 #perform computations on the list \n",
        "\n",
        "#print(mask)\n",
        "\n",
        "print(b[mask]) #applying the mask on the numpy array"
      ],
      "execution_count": 56,
      "outputs": [
        {
          "output_type": "stream",
          "text": [
            "[ 1  3  5  7  9 11 13 15 17 19]\n"
          ],
          "name": "stdout"
        }
      ]
    },
    {
      "metadata": {
        "id": "ZRDXe1q4Yw6C",
        "colab_type": "code",
        "colab": {
          "base_uri": "https://localhost:8080/",
          "height": 34
        },
        "outputId": "25134caa-83c5-46db-a54c-bd968458254f"
      },
      "cell_type": "code",
      "source": [
        "#expected output array([2, 4])\n",
        "a = np.array([1,2,3,2,3,4,3,4,5,6])\n",
        "b = np.array([7,2,10,2,7,4,9,4,9,8])\n",
        "np.intersect1d(a,b)"
      ],
      "execution_count": 57,
      "outputs": [
        {
          "output_type": "execute_result",
          "data": {
            "text/plain": [
              "array([2, 4])"
            ]
          },
          "metadata": {
            "tags": []
          },
          "execution_count": 57
        }
      ]
    },
    {
      "metadata": {
        "id": "vrIl330LZDO3",
        "colab_type": "code",
        "colab": {
          "base_uri": "https://localhost:8080/",
          "height": 101
        },
        "outputId": "31437943-9a45-4f7e-af44-8d9575e8a6e1"
      },
      "cell_type": "code",
      "source": [
        "a = np.arange(10)\n",
        "print (a)\n",
        "print('\\n')\n",
        "a.shape = a.size//-1, 5\n",
        "print(a)"
      ],
      "execution_count": 58,
      "outputs": [
        {
          "output_type": "stream",
          "text": [
            "[0 1 2 3 4 5 6 7 8 9]\n",
            "\n",
            "\n",
            "[[0 1 2 3 4]\n",
            " [5 6 7 8 9]]\n"
          ],
          "name": "stdout"
        }
      ]
    },
    {
      "metadata": {
        "id": "atGd8_9_Zjc-",
        "colab_type": "code",
        "colab": {
          "base_uri": "https://localhost:8080/",
          "height": 84
        },
        "outputId": "836cbdae-f78f-4dfc-8bc1-43dab74012dc"
      },
      "cell_type": "code",
      "source": [
        "a = [1, 2, 3, 4, 5, 6, 7, 8, 9]\n",
        "np.array(a).tolist()\n",
        "print(a)\n",
        "print('\\n')\n",
        "np.asarray(a)"
      ],
      "execution_count": 59,
      "outputs": [
        {
          "output_type": "stream",
          "text": [
            "[1, 2, 3, 4, 5, 6, 7, 8, 9]\n",
            "\n",
            "\n"
          ],
          "name": "stdout"
        },
        {
          "output_type": "execute_result",
          "data": {
            "text/plain": [
              "array([1, 2, 3, 4, 5, 6, 7, 8, 9])"
            ]
          },
          "metadata": {
            "tags": []
          },
          "execution_count": 59
        }
      ]
    },
    {
      "metadata": {
        "id": "L8JI_PAmbcbp",
        "colab_type": "code",
        "colab": {
          "base_uri": "https://localhost:8080/",
          "height": 101
        },
        "outputId": "0ba45318-d34a-4b6d-c09d-42ccffa782f5"
      },
      "cell_type": "code",
      "source": [
        "d = np.ones((5,5))\n",
        "d[1:-1,1:-1] = 0\n",
        "print(d)"
      ],
      "execution_count": 60,
      "outputs": [
        {
          "output_type": "stream",
          "text": [
            "[[1. 1. 1. 1. 1.]\n",
            " [1. 0. 0. 0. 1.]\n",
            " [1. 0. 0. 0. 1.]\n",
            " [1. 0. 0. 0. 1.]\n",
            " [1. 1. 1. 1. 1.]]\n"
          ],
          "name": "stdout"
        }
      ]
    },
    {
      "metadata": {
        "id": "SY2a-sGxU4Q8",
        "colab_type": "code",
        "colab": {
          "base_uri": "https://localhost:8080/",
          "height": 151
        },
        "outputId": "70bdeca0-5a5e-46dd-ed88-694e3f48dd4a"
      },
      "cell_type": "code",
      "source": [
        "x = np.zeros((8,8),dtype=int)\n",
        "x[1::2,::2] = 1\n",
        "x[::2,1::2] = 1\n",
        "print(x)"
      ],
      "execution_count": 61,
      "outputs": [
        {
          "output_type": "stream",
          "text": [
            "[[0 1 0 1 0 1 0 1]\n",
            " [1 0 1 0 1 0 1 0]\n",
            " [0 1 0 1 0 1 0 1]\n",
            " [1 0 1 0 1 0 1 0]\n",
            " [0 1 0 1 0 1 0 1]\n",
            " [1 0 1 0 1 0 1 0]\n",
            " [0 1 0 1 0 1 0 1]\n",
            " [1 0 1 0 1 0 1 0]]\n"
          ],
          "name": "stdout"
        }
      ]
    }
  ]
}